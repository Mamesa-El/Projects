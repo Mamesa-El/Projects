{
 "cells": [
  {
   "cell_type": "markdown",
   "id": "cd11da2a",
   "metadata": {},
   "source": [
    "# Project 1, Part 6, Identifying Best Customers\n"
   ]
  },
  {
   "cell_type": "markdown",
   "id": "701f1c25",
   "metadata": {},
   "source": [
    "# 1.6 Ideas on how the sales data can be used to help identify best customers\n",
    "\n",
    "The data science team would like to know your best ideas on how the sales data can be used to help identify the company's best customers.\n",
    "\n",
    "\n",
    "\n",
    "They are going to start with the most common and most basic model known as RFM, which consists of the 3 dimensions.\n",
    "\n",
    "* R - Recency - How recently did the customer purchase?\n",
    "\n",
    "* F - Frequency - How often do they purchase?\n",
    "\n",
    "* M - Monetary Value - How much do they spend?\n",
    "\n",
    "\n",
    "\n",
    "At first glance, it's pretty easy to think of a simple query for each dimension.\n",
    "\n",
    "However, after some thought, it's not quite so easy. It's very open ended, with a lot of grey areas, and no single right or wrong answer (just like 99% of data science and AI!)  For each dimension, there can be some pretty complex ways to determine.\n",
    "\n",
    "The data science team also has to come up with a way to synthesize the 3 dimensions into a single customer value for each customer.\n",
    "\n",
    "\n",
    "\n",
    "The data science team would like for you to present your ideas in the form of 4 paragraphs as follows:\n",
    "\n",
    "* Recency - A paragraph of 3 to 5 sentences briefly explaining your ideas on how the data can be used to determine recency.  \n",
    "\n",
    "* Frequency - A paragraph of 3 to 5 sentences briefly explaining your ideas on how the data can be used to determine frequency.\n",
    "\n",
    "* Monetary Value - A paragraph of 3 to 5 sentences briefly explaining your ideas on how the data can be used to determine monetary value.\n",
    "\n",
    "* Synthesis - A paragraph of 3 to 5 sentences briefly explaining your ideas on how to synthesize the 3 dimensions of recency, frequency, and monetary value into a customer value for each customer and how to determine who the best customers are.\n",
    "\n",
    "\n",
    "\n",
    "Put all 4 paragraphs in a single markdown cell.\n",
    "\n",
    "Note that you do not write code for this, only english language descriptions of your ideas.\n",
    "\n"
   ]
  },
  {
   "cell_type": "markdown",
   "id": "67dd986f",
   "metadata": {},
   "source": [
    "# Identifying the Best Customers\n",
    "\n",
    "Recency: For each customer, we can query their purchase information by joining the customer's table to the sales table. From there, we can determine when is their most recent purchase. The most recent purchase date provides insight into how recently 'active' the customer is. This information is helpful as it allows us to focus on more recently active customers rather than those who have not made any purchases months ago. \n",
    "    \n",
    "Frequency: The purchase frequency for each customer can be calculated by taking the total number of purchases in a given time span. We can study the customer's total purchases daily, weekly, and/or monthly. It is reasonable to analyze the frequency of active customers (i.e., have a high purchase frequency) in a shorter period (days or week) to understand better what day of the week they tend to have the highest purchase. Customers' purchase frequency gives insights into how active they are, which is one crucial aspect that allows us to determine who the best customers are. \n",
    "\n",
    "Monetary Value: The total money that a customer spends can be calcualted by taking the sum of the total purchase amount of each customer in a given period. Much like calculating the frequency, we can choose to study the customer's total money spent in a given period (daily, weekly, monthly, and yearly). We can determine the best customers by knowing each customer's total money spent. But by looking at the customer's total money spent weekly, monthly, or yearly, we can extract more profound insights into the customer's tendency to make the purchase. One example is determining which months customers spend the most money on the purchase.  \n",
    "\n",
    "Synthesis: We can determine the best customers by using the RFM models. The most recently active customer with the highest purchase frequency and money spent are the best customers. Generally, we want the best customers to make frequent and consistent purchases every day, week, and/or month throughout the year. They are considered 'regular' customers rather than customers with the same high frequency and spending on purchases in a month or one week but are not 'active' for the rest of the year. \n",
    "\n",
    "\n"
   ]
  },
  {
   "cell_type": "code",
   "execution_count": null,
   "id": "c4e9b7c3",
   "metadata": {},
   "outputs": [],
   "source": []
  }
 ],
 "metadata": {
  "kernelspec": {
   "display_name": "Python 3 (ipykernel)",
   "language": "python",
   "name": "python3"
  },
  "language_info": {
   "codemirror_mode": {
    "name": "ipython",
    "version": 3
   },
   "file_extension": ".py",
   "mimetype": "text/x-python",
   "name": "python",
   "nbconvert_exporter": "python",
   "pygments_lexer": "ipython3",
   "version": "3.9.7"
  }
 },
 "nbformat": 4,
 "nbformat_minor": 5
}
