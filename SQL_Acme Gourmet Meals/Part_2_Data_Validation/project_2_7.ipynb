{
 "cells": [
  {
   "cell_type": "markdown",
   "id": "3f465500",
   "metadata": {},
   "source": [
    "# Project 2, Part 7, Analysis on continuing to withhold customer data from 3rd parties\n",
    "\n",
    "University of California, Berkeley\n",
    "\n",
    "Master of Information and Data Science (MIDS) program\n",
    "\n",
    "w205 - Fundamentals of Data Engineering\n"
   ]
  },
  {
   "cell_type": "markdown",
   "id": "1cf92eab",
   "metadata": {},
   "source": [
    "# 2.7 Analysis on continuing to withhold customer data from 3rd parties\n",
    "\n",
    "As stated in the scenario, like most companies, AGM does not want to give out its customer list to 3rd party sales channels.  The downside is, as we have seen, that customer first names, last names, and street addresses will have some variations and not be exact matches.\n",
    "\n",
    "The data science team would like your analysis of both options:\n",
    "\n",
    "1)  Continue to withhold the customer data from 3rd party sales channels\n",
    "\n",
    "2)  Give customer data to 3rd party sales channels\n",
    "\n",
    "The data science team would also like your recommendation on which option you think is best.\n",
    "\n",
    "In the markdown cell,you must provide:\n",
    "* A meaningful title\n",
    "* Write a paragraph of 3 to 10 sentences for option 1.\n",
    "* Write a paragraph of 3 to 10 sentences for option 2.\n",
    "* Write a paragraph of 3 to 10 sentences with your recommendation.\n",
    "\n",
    "You are not required to write any queries nor any code nor create any data visualizations.  Simply provide English text.\n",
    "\n",
    "Hints: \n",
    "* Consider the percentage of unmatched and how impactful that would be if we scale out\n",
    "* Consider how hard or how easy it would be to correct the unmatched based on what we have seen so far\n",
    "* Does the ability to correct ummatched sufficiently mitigate the percentage of unmatched such that we can continue to withhold customer data?\n"
   ]
  },
  {
   "cell_type": "markdown",
   "id": "c8086a63",
   "metadata": {},
   "source": [
    "# Customers' Data\n",
    "\n",
    "Option 1: \n",
    "The total percentage customer name mismatching is 13.4%. This is a large percentage and if AGM are to scale out its operation even more, the total amount of mismatching customers' with increaes relatives to that. However, data verifying and cleaning up the mismatching customers name were relatively easy and fast.\n",
    "\n",
    "Option 2: \n",
    "Providing valuable customers info to 3rd party would reduce or eliminate the percentage of mismatching customers name. This would make it easier for AGM and greatly benefits 3rd party company a lot. However, AGM would get not the same benefits as the 3rd would party would by providing such valuable customers' data.\n",
    "\n",
    "Recommendation: \n",
    "\n",
    "I reccomend that AGM continue to witholds its customers' data. Because AGM would not benefit from that exchange as much as 3rd party company would. Furthermore, cleaning up the customer's mismatching name is relatively easy to do. Not to mention that it would keep the upper management happy.\n"
   ]
  },
  {
   "cell_type": "code",
   "execution_count": null,
   "id": "60dca8bc",
   "metadata": {},
   "outputs": [],
   "source": []
  }
 ],
 "metadata": {
  "kernelspec": {
   "display_name": "Python 3 (ipykernel)",
   "language": "python",
   "name": "python3"
  },
  "language_info": {
   "codemirror_mode": {
    "name": "ipython",
    "version": 3
   },
   "file_extension": ".py",
   "mimetype": "text/x-python",
   "name": "python",
   "nbconvert_exporter": "python",
   "pygments_lexer": "ipython3",
   "version": "3.9.7"
  }
 },
 "nbformat": 4,
 "nbformat_minor": 5
}
